{
 "cells": [
  {
   "cell_type": "code",
   "execution_count": 12,
   "id": "7f1ec768-eb62-4b49-8528-bbaad0969328",
   "metadata": {},
   "outputs": [],
   "source": [
    "import heapq\n",
    "\n",
    "def A_star_search(graph, start, goal, heuristic):\n",
    "    open_list = []\n",
    "    heapq.heappush(open_list, (heuristic[start], start))\n",
    "    \n",
    "    close_list = []\n",
    "    g_cost = {node: float('inf') for node in graph}\n",
    "    g_cost[start]=0\n",
    "\n",
    "    while open_list:\n",
    "        current_f, current_node = heapq.heappop(open_list)\n",
    "        close_list.append(current_node)\n",
    "\n",
    "        if current_node == goal:\n",
    "            break\n",
    "\n",
    "        for neighbor, step_cost in graph[current_node]:\n",
    "            if neighbor not in close_list:\n",
    "                temp_g = g_cost[current_node] + step_cost \n",
    "                if temp_g < g_cost[neighbor]:\n",
    "                    g_cost[neighbor] = temp_g\n",
    "                    f_cost = temp_g + heuristic[neighbor]\n",
    "                    heapq.heappush(open_list, (f_cost, neighbor))\n",
    "\n",
    "    if goal in close_list:\n",
    "        return close_list\n",
    "    else:\n",
    "        return None\n",
    "\n",
    "    "
   ]
  },
  {
   "cell_type": "code",
   "execution_count": 14,
   "id": "e96a7865-acc0-4d5f-a953-500b8ecdfdbe",
   "metadata": {},
   "outputs": [
    {
     "name": "stdout",
     "output_type": "stream",
     "text": [
      "['S', 'A', 'C', 'G']\n"
     ]
    }
   ],
   "source": [
    "if __name__ == '__main__':\n",
    "\n",
    "    graph = {\n",
    "        'S' : [('A',1), ('G',10)],\n",
    "        'A' : [('C',1), ('B',2)],\n",
    "        'B' : [('D',5)],\n",
    "        'C' : [('D',3), ('G',4)],\n",
    "        'D' : [('G',2)],\n",
    "        'G' : []\n",
    "    }\n",
    "\n",
    "    heuristic = {\n",
    "        'S':5,\n",
    "        'A':3,\n",
    "        'B':4,\n",
    "        'C':2,\n",
    "        'D':6,\n",
    "        'G':0\n",
    "    }\n",
    "\n",
    "    start = 'S'\n",
    "    goal = 'G'\n",
    "\n",
    "    path = A_star_search(graph, start, goal, heuristic)\n",
    "    print(path)"
   ]
  },
  {
   "cell_type": "code",
   "execution_count": null,
   "id": "13258e83-a9fb-4da3-a152-b77395da0482",
   "metadata": {},
   "outputs": [],
   "source": []
  }
 ],
 "metadata": {
  "kernelspec": {
   "display_name": "Python 3 (ipykernel)",
   "language": "python",
   "name": "python3"
  },
  "language_info": {
   "codemirror_mode": {
    "name": "ipython",
    "version": 3
   },
   "file_extension": ".py",
   "mimetype": "text/x-python",
   "name": "python",
   "nbconvert_exporter": "python",
   "pygments_lexer": "ipython3",
   "version": "3.11.4"
  }
 },
 "nbformat": 4,
 "nbformat_minor": 5
}
